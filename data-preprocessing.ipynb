{
 "cells": [
  {
   "cell_type": "markdown",
   "id": "57102c5a-9015-459c-83a4-c2f698e4cd76",
   "metadata": {},
   "source": [
    "# Data Cleaning & Preprocessing Assignment\n",
    "\n",
    "## Introduction\n",
    "\n",
    "Data cleaning and preprocessing is a crucial first step in any machine learning workflow. Raw datasets often contain missing values, duplicate records, inconsistent formats, and outliers, which can negatively affect the performance of machine learning models. The goal of this assignment is to transform raw data into a clean, structured, and standardized format suitable for analysis and modeling.\n",
    "\n",
    "This project focuses on:\n",
    "\n",
    "- Identifying and handling missing values in both numerical and categorical features\n",
    "- Removing duplicate entries to ensure data integrity\n",
    "- Converting categorical features into numerical representations using label encoding or one-hot encoding\n",
    "- Normalizing and standardizing numerical features to improve comparability\n",
    "- Detecting and handling outliers interactively based on IQR thresholds\n",
    "- Visualizing the dataset to understand feature distributions, cardinality, and the impact of cleaning\n",
    "\n",
    "The Titanic dataset is used as an example in this notebook. The cleaned dataset can then be used for further machine learning tasks such as feature engineering and model building.\n"
   ]
  },
  {
   "cell_type": "markdown",
   "id": "941b5521-d638-4d6f-b1e1-9ee8e3a1439c",
   "metadata": {},
   "source": [
    "## Importing Required Packages\n",
    "\n",
    "Before we begin the data cleaning and preprocessing steps, we need to import all the necessary libraries. These libraries will help us handle data, perform numerical computations, visualize distributions, and preprocess features for machine learning."
   ]
  },
  {
   "cell_type": "code",
   "execution_count": 1,
   "id": "96b3b88b-a83e-465d-9a4f-ee9660dc6b95",
   "metadata": {},
   "outputs": [],
   "source": [
    "import pandas as pd\n",
    "import numpy as np\n",
    "import matplotlib.pyplot as plt\n",
    "import seaborn as sns\n",
    "from sklearn.preprocessing import LabelEncoder, OneHotEncoder, MinMaxScaler, StandardScaler"
   ]
  },
  {
   "cell_type": "markdown",
   "id": "3bbcf6ba-e690-4984-9111-2fbdca7681c3",
   "metadata": {},
   "source": [
    "## Loading and Inspecting the Dataset:\n",
    "  1. Configure display options to show all the columns\n",
    "  2. Make a global variable to store the dataset\n",
    "  3. Make a copy of the dataset, so we can always revert back or compare from the main\n",
    "  4. Show a sample of it (first 5 rows)"
   ]
  },
  {
   "cell_type": "code",
   "execution_count": 2,
   "id": "a1e22a6f-4c9e-438b-889d-59cd2a3efd75",
   "metadata": {},
   "outputs": [],
   "source": [
    "pd.options.display.max_columns = None"
   ]
  },
  {
   "cell_type": "code",
   "execution_count": 3,
   "id": "de5433bf-d612-44ae-84de-5b1b7d02f6b2",
   "metadata": {},
   "outputs": [],
   "source": [
    "DATASET = pd.read_csv(\"datasets/Titanic-Dataset.csv\")"
   ]
  },
  {
   "cell_type": "code",
   "execution_count": 4,
   "id": "621e029b-fa17-4756-8015-2e21c61df562",
   "metadata": {},
   "outputs": [],
   "source": [
    "df = DATASET.copy()"
   ]
  },
  {
   "cell_type": "code",
   "execution_count": 5,
   "id": "b2a5c67b-5370-46f6-b6ec-bc8b053bbc15",
   "metadata": {},
   "outputs": [
    {
     "name": "stdout",
     "output_type": "stream",
     "text": [
      "(891, 12)\n"
     ]
    },
    {
     "data": {
      "text/html": [
       "<div>\n",
       "<style scoped>\n",
       "    .dataframe tbody tr th:only-of-type {\n",
       "        vertical-align: middle;\n",
       "    }\n",
       "\n",
       "    .dataframe tbody tr th {\n",
       "        vertical-align: top;\n",
       "    }\n",
       "\n",
       "    .dataframe thead th {\n",
       "        text-align: right;\n",
       "    }\n",
       "</style>\n",
       "<table border=\"1\" class=\"dataframe\">\n",
       "  <thead>\n",
       "    <tr style=\"text-align: right;\">\n",
       "      <th></th>\n",
       "      <th>PassengerId</th>\n",
       "      <th>Survived</th>\n",
       "      <th>Pclass</th>\n",
       "      <th>Name</th>\n",
       "      <th>Sex</th>\n",
       "      <th>Age</th>\n",
       "      <th>SibSp</th>\n",
       "      <th>Parch</th>\n",
       "      <th>Ticket</th>\n",
       "      <th>Fare</th>\n",
       "      <th>Cabin</th>\n",
       "      <th>Embarked</th>\n",
       "    </tr>\n",
       "  </thead>\n",
       "  <tbody>\n",
       "    <tr>\n",
       "      <th>0</th>\n",
       "      <td>1</td>\n",
       "      <td>0</td>\n",
       "      <td>3</td>\n",
       "      <td>Braund, Mr. Owen Harris</td>\n",
       "      <td>male</td>\n",
       "      <td>22.0</td>\n",
       "      <td>1</td>\n",
       "      <td>0</td>\n",
       "      <td>A/5 21171</td>\n",
       "      <td>7.2500</td>\n",
       "      <td>NaN</td>\n",
       "      <td>S</td>\n",
       "    </tr>\n",
       "    <tr>\n",
       "      <th>1</th>\n",
       "      <td>2</td>\n",
       "      <td>1</td>\n",
       "      <td>1</td>\n",
       "      <td>Cumings, Mrs. John Bradley (Florence Briggs Th...</td>\n",
       "      <td>female</td>\n",
       "      <td>38.0</td>\n",
       "      <td>1</td>\n",
       "      <td>0</td>\n",
       "      <td>PC 17599</td>\n",
       "      <td>71.2833</td>\n",
       "      <td>C85</td>\n",
       "      <td>C</td>\n",
       "    </tr>\n",
       "    <tr>\n",
       "      <th>2</th>\n",
       "      <td>3</td>\n",
       "      <td>1</td>\n",
       "      <td>3</td>\n",
       "      <td>Heikkinen, Miss. Laina</td>\n",
       "      <td>female</td>\n",
       "      <td>26.0</td>\n",
       "      <td>0</td>\n",
       "      <td>0</td>\n",
       "      <td>STON/O2. 3101282</td>\n",
       "      <td>7.9250</td>\n",
       "      <td>NaN</td>\n",
       "      <td>S</td>\n",
       "    </tr>\n",
       "    <tr>\n",
       "      <th>3</th>\n",
       "      <td>4</td>\n",
       "      <td>1</td>\n",
       "      <td>1</td>\n",
       "      <td>Futrelle, Mrs. Jacques Heath (Lily May Peel)</td>\n",
       "      <td>female</td>\n",
       "      <td>35.0</td>\n",
       "      <td>1</td>\n",
       "      <td>0</td>\n",
       "      <td>113803</td>\n",
       "      <td>53.1000</td>\n",
       "      <td>C123</td>\n",
       "      <td>S</td>\n",
       "    </tr>\n",
       "    <tr>\n",
       "      <th>4</th>\n",
       "      <td>5</td>\n",
       "      <td>0</td>\n",
       "      <td>3</td>\n",
       "      <td>Allen, Mr. William Henry</td>\n",
       "      <td>male</td>\n",
       "      <td>35.0</td>\n",
       "      <td>0</td>\n",
       "      <td>0</td>\n",
       "      <td>373450</td>\n",
       "      <td>8.0500</td>\n",
       "      <td>NaN</td>\n",
       "      <td>S</td>\n",
       "    </tr>\n",
       "  </tbody>\n",
       "</table>\n",
       "</div>"
      ],
      "text/plain": [
       "   PassengerId  Survived  Pclass  \\\n",
       "0            1         0       3   \n",
       "1            2         1       1   \n",
       "2            3         1       3   \n",
       "3            4         1       1   \n",
       "4            5         0       3   \n",
       "\n",
       "                                                Name     Sex   Age  SibSp  \\\n",
       "0                            Braund, Mr. Owen Harris    male  22.0      1   \n",
       "1  Cumings, Mrs. John Bradley (Florence Briggs Th...  female  38.0      1   \n",
       "2                             Heikkinen, Miss. Laina  female  26.0      0   \n",
       "3       Futrelle, Mrs. Jacques Heath (Lily May Peel)  female  35.0      1   \n",
       "4                           Allen, Mr. William Henry    male  35.0      0   \n",
       "\n",
       "   Parch            Ticket     Fare Cabin Embarked  \n",
       "0      0         A/5 21171   7.2500   NaN        S  \n",
       "1      0          PC 17599  71.2833   C85        C  \n",
       "2      0  STON/O2. 3101282   7.9250   NaN        S  \n",
       "3      0            113803  53.1000  C123        S  \n",
       "4      0            373450   8.0500   NaN        S  "
      ]
     },
     "metadata": {},
     "output_type": "display_data"
    }
   ],
   "source": [
    "print(df.shape)\n",
    "display(df.head())"
   ]
  },
  {
   "cell_type": "markdown",
   "id": "06166cc0-e7b1-4bae-a6fc-caa85260d7d5",
   "metadata": {},
   "source": [
    "## Initial Data Exploration\n",
    "\n",
    "In this step, we perform an initial exploration of the dataset to understand its structure and quality. This includes:\n",
    "\n",
    "- Checking data types and general information of each column\n",
    "- Identifying missing values\n",
    "- Summarizing numeric and non-numeric data\n",
    "- Counting unique values per column\n",
    "- Detecting duplicate rows and dropping them if necessary\n",
    "\n",
    "If any missing values are found, we will visualize them using appropriate plots to understand their distribution.\n"
   ]
  },
  {
   "cell_type": "code",
   "execution_count": 6,
   "id": "9d14f186-509c-486c-addd-54f387db230b",
   "metadata": {},
   "outputs": [],
   "source": [
    "dup_count = df.duplicated().sum()"
   ]
  },
  {
   "cell_type": "code",
   "execution_count": 7,
   "id": "998edd3c-cd83-47f0-ad7c-4a3db1a315fe",
   "metadata": {},
   "outputs": [],
   "source": [
    "def miss_count(data):\n",
    "    count = 0\n",
    "    for i in data.isnull().sum().values:\n",
    "        if i > 0:\n",
    "            count+=1\n",
    "    return count    "
   ]
  },
  {
   "cell_type": "code",
   "execution_count": 8,
   "id": "e142a9de-37b2-4bd0-b745-33bed778b736",
   "metadata": {},
   "outputs": [],
   "source": [
    "def data_explore(data):\n",
    "    print(\"\\nInformation\")\n",
    "    display(data.info())\n",
    "\n",
    "    print(\"\\nMissing Values\")\n",
    "    display(data.isnull().sum().sort_values(ascending=False).head(miss_count(data)))\n",
    "\n",
    "    print('\\nNumeric Data Summary')\n",
    "    display(data.describe(include=[np.number]).T)\n",
    "\n",
    "    print('\\nNon-Numeric Data')\n",
    "    display(data.describe(include=['object', 'category', 'datetime64[ns]']))\n",
    "\n",
    "    print('\\nUnique Values per Column')\n",
    "    display(data.nunique().sort_values(ascending=True).head(30))\n",
    "\n",
    "    print(f'\\nNumber of Duplicate Values : {dup_count}')\n",
    "    if dup_count:\n",
    "        df.drop_duplicates().reset_index(drop=True)"
   ]
  },
  {
   "cell_type": "code",
   "execution_count": 9,
   "id": "ce596635-55aa-45b4-883e-385ea0ff60c7",
   "metadata": {},
   "outputs": [
    {
     "name": "stdout",
     "output_type": "stream",
     "text": [
      "\n",
      "Information\n",
      "<class 'pandas.core.frame.DataFrame'>\n",
      "RangeIndex: 891 entries, 0 to 890\n",
      "Data columns (total 12 columns):\n",
      " #   Column       Non-Null Count  Dtype  \n",
      "---  ------       --------------  -----  \n",
      " 0   PassengerId  891 non-null    int64  \n",
      " 1   Survived     891 non-null    int64  \n",
      " 2   Pclass       891 non-null    int64  \n",
      " 3   Name         891 non-null    object \n",
      " 4   Sex          891 non-null    object \n",
      " 5   Age          714 non-null    float64\n",
      " 6   SibSp        891 non-null    int64  \n",
      " 7   Parch        891 non-null    int64  \n",
      " 8   Ticket       891 non-null    object \n",
      " 9   Fare         891 non-null    float64\n",
      " 10  Cabin        204 non-null    object \n",
      " 11  Embarked     889 non-null    object \n",
      "dtypes: float64(2), int64(5), object(5)\n",
      "memory usage: 83.7+ KB\n"
     ]
    },
    {
     "data": {
      "text/plain": [
       "None"
      ]
     },
     "metadata": {},
     "output_type": "display_data"
    },
    {
     "name": "stdout",
     "output_type": "stream",
     "text": [
      "\n",
      "Missing Values\n"
     ]
    },
    {
     "data": {
      "text/plain": [
       "Cabin       687\n",
       "Age         177\n",
       "Embarked      2\n",
       "dtype: int64"
      ]
     },
     "metadata": {},
     "output_type": "display_data"
    },
    {
     "name": "stdout",
     "output_type": "stream",
     "text": [
      "\n",
      "Numeric Data Summary\n"
     ]
    },
    {
     "data": {
      "text/html": [
       "<div>\n",
       "<style scoped>\n",
       "    .dataframe tbody tr th:only-of-type {\n",
       "        vertical-align: middle;\n",
       "    }\n",
       "\n",
       "    .dataframe tbody tr th {\n",
       "        vertical-align: top;\n",
       "    }\n",
       "\n",
       "    .dataframe thead th {\n",
       "        text-align: right;\n",
       "    }\n",
       "</style>\n",
       "<table border=\"1\" class=\"dataframe\">\n",
       "  <thead>\n",
       "    <tr style=\"text-align: right;\">\n",
       "      <th></th>\n",
       "      <th>count</th>\n",
       "      <th>mean</th>\n",
       "      <th>std</th>\n",
       "      <th>min</th>\n",
       "      <th>25%</th>\n",
       "      <th>50%</th>\n",
       "      <th>75%</th>\n",
       "      <th>max</th>\n",
       "    </tr>\n",
       "  </thead>\n",
       "  <tbody>\n",
       "    <tr>\n",
       "      <th>PassengerId</th>\n",
       "      <td>891.0</td>\n",
       "      <td>446.000000</td>\n",
       "      <td>257.353842</td>\n",
       "      <td>1.00</td>\n",
       "      <td>223.5000</td>\n",
       "      <td>446.0000</td>\n",
       "      <td>668.5</td>\n",
       "      <td>891.0000</td>\n",
       "    </tr>\n",
       "    <tr>\n",
       "      <th>Survived</th>\n",
       "      <td>891.0</td>\n",
       "      <td>0.383838</td>\n",
       "      <td>0.486592</td>\n",
       "      <td>0.00</td>\n",
       "      <td>0.0000</td>\n",
       "      <td>0.0000</td>\n",
       "      <td>1.0</td>\n",
       "      <td>1.0000</td>\n",
       "    </tr>\n",
       "    <tr>\n",
       "      <th>Pclass</th>\n",
       "      <td>891.0</td>\n",
       "      <td>2.308642</td>\n",
       "      <td>0.836071</td>\n",
       "      <td>1.00</td>\n",
       "      <td>2.0000</td>\n",
       "      <td>3.0000</td>\n",
       "      <td>3.0</td>\n",
       "      <td>3.0000</td>\n",
       "    </tr>\n",
       "    <tr>\n",
       "      <th>Age</th>\n",
       "      <td>714.0</td>\n",
       "      <td>29.699118</td>\n",
       "      <td>14.526497</td>\n",
       "      <td>0.42</td>\n",
       "      <td>20.1250</td>\n",
       "      <td>28.0000</td>\n",
       "      <td>38.0</td>\n",
       "      <td>80.0000</td>\n",
       "    </tr>\n",
       "    <tr>\n",
       "      <th>SibSp</th>\n",
       "      <td>891.0</td>\n",
       "      <td>0.523008</td>\n",
       "      <td>1.102743</td>\n",
       "      <td>0.00</td>\n",
       "      <td>0.0000</td>\n",
       "      <td>0.0000</td>\n",
       "      <td>1.0</td>\n",
       "      <td>8.0000</td>\n",
       "    </tr>\n",
       "    <tr>\n",
       "      <th>Parch</th>\n",
       "      <td>891.0</td>\n",
       "      <td>0.381594</td>\n",
       "      <td>0.806057</td>\n",
       "      <td>0.00</td>\n",
       "      <td>0.0000</td>\n",
       "      <td>0.0000</td>\n",
       "      <td>0.0</td>\n",
       "      <td>6.0000</td>\n",
       "    </tr>\n",
       "    <tr>\n",
       "      <th>Fare</th>\n",
       "      <td>891.0</td>\n",
       "      <td>32.204208</td>\n",
       "      <td>49.693429</td>\n",
       "      <td>0.00</td>\n",
       "      <td>7.9104</td>\n",
       "      <td>14.4542</td>\n",
       "      <td>31.0</td>\n",
       "      <td>512.3292</td>\n",
       "    </tr>\n",
       "  </tbody>\n",
       "</table>\n",
       "</div>"
      ],
      "text/plain": [
       "             count        mean         std   min       25%       50%    75%  \\\n",
       "PassengerId  891.0  446.000000  257.353842  1.00  223.5000  446.0000  668.5   \n",
       "Survived     891.0    0.383838    0.486592  0.00    0.0000    0.0000    1.0   \n",
       "Pclass       891.0    2.308642    0.836071  1.00    2.0000    3.0000    3.0   \n",
       "Age          714.0   29.699118   14.526497  0.42   20.1250   28.0000   38.0   \n",
       "SibSp        891.0    0.523008    1.102743  0.00    0.0000    0.0000    1.0   \n",
       "Parch        891.0    0.381594    0.806057  0.00    0.0000    0.0000    0.0   \n",
       "Fare         891.0   32.204208   49.693429  0.00    7.9104   14.4542   31.0   \n",
       "\n",
       "                  max  \n",
       "PassengerId  891.0000  \n",
       "Survived       1.0000  \n",
       "Pclass         3.0000  \n",
       "Age           80.0000  \n",
       "SibSp          8.0000  \n",
       "Parch          6.0000  \n",
       "Fare         512.3292  "
      ]
     },
     "metadata": {},
     "output_type": "display_data"
    },
    {
     "name": "stdout",
     "output_type": "stream",
     "text": [
      "\n",
      "Non-Numeric Data\n"
     ]
    },
    {
     "data": {
      "text/html": [
       "<div>\n",
       "<style scoped>\n",
       "    .dataframe tbody tr th:only-of-type {\n",
       "        vertical-align: middle;\n",
       "    }\n",
       "\n",
       "    .dataframe tbody tr th {\n",
       "        vertical-align: top;\n",
       "    }\n",
       "\n",
       "    .dataframe thead th {\n",
       "        text-align: right;\n",
       "    }\n",
       "</style>\n",
       "<table border=\"1\" class=\"dataframe\">\n",
       "  <thead>\n",
       "    <tr style=\"text-align: right;\">\n",
       "      <th></th>\n",
       "      <th>Name</th>\n",
       "      <th>Sex</th>\n",
       "      <th>Ticket</th>\n",
       "      <th>Cabin</th>\n",
       "      <th>Embarked</th>\n",
       "    </tr>\n",
       "  </thead>\n",
       "  <tbody>\n",
       "    <tr>\n",
       "      <th>count</th>\n",
       "      <td>891</td>\n",
       "      <td>891</td>\n",
       "      <td>891</td>\n",
       "      <td>204</td>\n",
       "      <td>889</td>\n",
       "    </tr>\n",
       "    <tr>\n",
       "      <th>unique</th>\n",
       "      <td>891</td>\n",
       "      <td>2</td>\n",
       "      <td>681</td>\n",
       "      <td>147</td>\n",
       "      <td>3</td>\n",
       "    </tr>\n",
       "    <tr>\n",
       "      <th>top</th>\n",
       "      <td>Braund, Mr. Owen Harris</td>\n",
       "      <td>male</td>\n",
       "      <td>347082</td>\n",
       "      <td>G6</td>\n",
       "      <td>S</td>\n",
       "    </tr>\n",
       "    <tr>\n",
       "      <th>freq</th>\n",
       "      <td>1</td>\n",
       "      <td>577</td>\n",
       "      <td>7</td>\n",
       "      <td>4</td>\n",
       "      <td>644</td>\n",
       "    </tr>\n",
       "  </tbody>\n",
       "</table>\n",
       "</div>"
      ],
      "text/plain": [
       "                           Name   Sex  Ticket Cabin Embarked\n",
       "count                       891   891     891   204      889\n",
       "unique                      891     2     681   147        3\n",
       "top     Braund, Mr. Owen Harris  male  347082    G6        S\n",
       "freq                          1   577       7     4      644"
      ]
     },
     "metadata": {},
     "output_type": "display_data"
    },
    {
     "name": "stdout",
     "output_type": "stream",
     "text": [
      "\n",
      "Unique Values per Column\n"
     ]
    },
    {
     "data": {
      "text/plain": [
       "Survived         2\n",
       "Sex              2\n",
       "Pclass           3\n",
       "Embarked         3\n",
       "Parch            7\n",
       "SibSp            7\n",
       "Age             88\n",
       "Cabin          147\n",
       "Fare           248\n",
       "Ticket         681\n",
       "PassengerId    891\n",
       "Name           891\n",
       "dtype: int64"
      ]
     },
     "metadata": {},
     "output_type": "display_data"
    },
    {
     "name": "stdout",
     "output_type": "stream",
     "text": [
      "\n",
      "Number of Duplicate Values : 0\n"
     ]
    }
   ],
   "source": [
    "data_explore(df)"
   ]
  },
  {
   "cell_type": "code",
   "execution_count": 10,
   "id": "ea97192f-eee3-488b-b0c2-f1e2bca4f17c",
   "metadata": {},
   "outputs": [
    {
     "data": {
      "image/png": "[encoded data removed]",
      "text/plain": [
       "<Figure size 1000x400 with 1 Axes>"
      ]
     },
     "metadata": {},
     "output_type": "display_data"
    }
   ],
   "source": [
    "missing = df.isnull().sum()\n",
    "missing = missing[missing > 0].sort_values(ascending=False)\n",
    "if len(missing):\n",
    "    plt.figure(figsize=(10,4))\n",
    "    sns.barplot(x=missing.index, y=missing.values)\n",
    "    plt.xticks(rotation=45, ha='right')\n",
    "    plt.ylabel('Missing count')\n",
    "    plt.title('Missing values per column')\n",
    "    plt.show()\n",
    "else:\n",
    "    print(\"No missing values found.\")"
   ]
  },
  {
   "cell_type": "markdown",
   "id": "f5171d75-ede1-4cf9-b69f-f75082d92163",
   "metadata": {},
   "source": [
    "## Handling Numerical and Categorical Features\n",
    "\n",
    "In this step, we separate the dataset into numerical, categorical, and date columns. Since date columns are not required for this analysis, we discard them.  \n",
    "\n",
    "For **numerical columns**, we calculate the percentage of missing values. If the missing value percentage exceeds a predefined threshold, we drop the column from the dataset.  \n",
    "\n",
    "For **categorical columns**, we calculate the normalized cardinality (percentage of unique values). If this exceeds a threshold, we ask the user interactively whether to drop the column. Columns below the threshold are retained automatically.  \n",
    "\n",
    "This process ensures that we handle features with too many missing values or overly high cardinality, which could negatively impact downstream analysis and modeling.\n"
   ]
  },
  {
   "cell_type": "code",
   "execution_count": 11,
   "id": "85d67cca-16fb-4018-b713-dc9cd9d2f506",
   "metadata": {},
   "outputs": [],
   "source": [
    "num_cols = df.select_dtypes(include=[np.number]).columns.tolist()\n",
    "cat_cols = df.select_dtypes(include=['category','object']).columns.tolist()\n",
    "date_cols = df.select_dtypes(include=['datetime64[ns]']).columns.tolist()"
   ]
  },
  {
   "cell_type": "code",
   "execution_count": 12,
   "id": "f127f43f-dae8-45f0-981b-fbaf471d2bc8",
   "metadata": {},
   "outputs": [
    {
     "name": "stdout",
     "output_type": "stream",
     "text": [
      "Missing percentage per column:\n",
      "Cabin       77.104377\n",
      "Age         19.865320\n",
      "Embarked     0.224467\n",
      "dtype: float64\n",
      "\n",
      "The following columns have more than 50% missing values:\n",
      "['Cabin']\n"
     ]
    },
    {
     "name": "stdin",
     "output_type": "stream",
     "text": [
      "Do you want to drop these columns? (y/n):  y\n"
     ]
    },
    {
     "name": "stdout",
     "output_type": "stream",
     "text": [
      "Dropped columns: ['Cabin']\n"
     ]
    }
   ],
   "source": [
    "missing_pct = (df.isnull().sum() / len(df)) * 100\n",
    "missing_pct = missing_pct[missing_pct > 0].sort_values(ascending=False)\n",
    "print(\"Missing percentage per column:\")\n",
    "print(missing_pct)\n",
    "\n",
    "threshold = 50 \n",
    "cols_to_drop = missing_pct[missing_pct > threshold].index\n",
    "\n",
    "if len(cols_to_drop) > 0:\n",
    "    print(f\"\\nThe following columns have more than {threshold}% missing values:\")\n",
    "    print(list(cols_to_drop))\n",
    "    user_choice = input(f\"Do you want to drop these columns? (y/n): \").strip().lower()\n",
    "    \n",
    "    if user_choice == \"y\":\n",
    "        df.drop(columns=cols_to_drop, inplace=True)\n",
    "        print(f\"Dropped columns: {list(cols_to_drop)}\")\n",
    "    else:\n",
    "        print(\"Skipping column drop as per user choice.\")\n",
    "else:\n",
    "    print(f\"No columns found with more than {threshold}% missing values.\")"
   ]
  },
  {
   "cell_type": "code",
   "execution_count": 13,
   "id": "8efc4d68-0f55-4957-9945-3f2dc4ae3c2b",
   "metadata": {},
   "outputs": [
    {
     "name": "stdout",
     "output_type": "stream",
     "text": [
      "\n",
      "Column: 'Name' - Unique values: 891 (100.0%) exceeds threshold of 50%\n"
     ]
    },
    {
     "name": "stdin",
     "output_type": "stream",
     "text": [
      "Do you want to drop the column 'Name'? (y/n):  y\n"
     ]
    },
    {
     "name": "stdout",
     "output_type": "stream",
     "text": [
      "Column 'Name' dropped. New shape: (891, 10)\n",
      "\n",
      "Column: 'Sex' - Unique values: 2 (0.2%) is under threshold. Skipping.\n",
      "\n",
      "Column: 'Ticket' - Unique values: 681 (76.4%) exceeds threshold of 50%\n"
     ]
    },
    {
     "name": "stdin",
     "output_type": "stream",
     "text": [
      "Do you want to drop the column 'Ticket'? (y/n):  y\n"
     ]
    },
    {
     "name": "stdout",
     "output_type": "stream",
     "text": [
      "Column 'Ticket' dropped. New shape: (891, 9)\n",
      "\n",
      "Column: 'Embarked' - Unique values: 3 (0.3%) is under threshold. Skipping.\n"
     ]
    }
   ],
   "source": [
    "# 1. Select non-numeric columns\n",
    "cat_cols = df.select_dtypes(include=['object', 'category']).columns.tolist()\n",
    "total_rows = len(df)\n",
    "cardinality_thresh = 50  # percentage of total rows\n",
    "\n",
    "# 2. Iterate over each column\n",
    "for col in cat_cols:\n",
    "    cardinality_pct = (df[col].nunique() / total_rows) * 100\n",
    "    \n",
    "    # Check if it exceeds threshold\n",
    "    if cardinality_pct > cardinality_thresh:\n",
    "        print(f\"\\nColumn: '{col}' - Unique values: {df[col].nunique()} ({cardinality_pct:.1f}%) exceeds threshold of {cardinality_thresh}%\")\n",
    "        \n",
    "        # Ask user interactively\n",
    "        while True:\n",
    "            choice = input(f\"Do you want to drop the column '{col}'? (y/n): \").strip().lower()\n",
    "            if choice in ['y', 'n']:\n",
    "                break\n",
    "            else:\n",
    "                print(\"Please type 'y' or 'n'.\")\n",
    "        \n",
    "        if choice == 'y':\n",
    "            df.drop(columns=[col], inplace=True)\n",
    "            print(f\"Column '{col}' dropped. New shape: {df.shape}\")\n",
    "        else:\n",
    "            print(f\"Column '{col}' retained.\")\n",
    "    else:\n",
    "        # Column under threshold, skip\n",
    "        print(f\"\\nColumn: '{col}' - Unique values: {df[col].nunique()} ({cardinality_pct:.1f}%) is under threshold. Skipping.\")\n"
   ]
  },
  {
   "cell_type": "markdown",
   "id": "27b41e98-442b-4fc7-95af-b880c6d94626",
   "metadata": {},
   "source": [
    "## Missing Value Imputation\n",
    "\n",
    "After identifying columns with missing values, we impute them to ensure a complete dataset for further analysis.  \n",
    "\n",
    "- For **numerical columns**, missing values are filled with the **median** of the respective column by default. Users can replace `.median()` with `.mean()` or any other method if they prefer.  \n",
    "- For **categorical columns**, missing values are filled with the **mode** (most frequent value) of the column.\n",
    "\n",
    "This step helps maintain data integrity and prepares the dataset for encoding and scaling.\n"
   ]
  },
  {
   "cell_type": "code",
   "execution_count": 14,
   "id": "56a68a7f-5fd9-44c4-91bc-61ddbfa0a8ee",
   "metadata": {},
   "outputs": [],
   "source": [
    "for col in num_cols:\n",
    "    if df[col].isnull().sum() > 0:\n",
    "        df[col] = df[col].fillna(df[col].median())"
   ]
  },
  {
   "cell_type": "code",
   "execution_count": 15,
   "id": "ab62324d-df21-4aff-8631-683df4d8a2db",
   "metadata": {},
   "outputs": [],
   "source": [
    "cat_cols = df.select_dtypes(include=['category','object']).columns.tolist()\n",
    "for col in cat_cols:\n",
    "    if df[col].isnull().sum() > 0:\n",
    "        df[col] = df[col].fillna(df[col].mode()[0])"
   ]
  },
  {
   "cell_type": "code",
   "execution_count": 16,
   "id": "819fb322-1226-4bb7-b1d4-c84abba89d56",
   "metadata": {},
   "outputs": [
    {
     "name": "stdout",
     "output_type": "stream",
     "text": [
      "\n",
      "Missing values after imputation: 0\n"
     ]
    }
   ],
   "source": [
    "print(f\"\\nMissing values after imputation: {df.isnull().sum().sum()}\")"
   ]
  },
  {
   "cell_type": "markdown",
   "id": "c8aca7aa-b074-43bb-89a4-9ba3e1e2e80e",
   "metadata": {},
   "source": [
    "## Encoding Categorical Features\n",
    "\n",
    "After handling missing values, we convert categorical columns into numerical representations suitable for machine learning models.  \n",
    "\n",
    "- For each categorical column, we first check its **cardinality** (number of unique values) relative to the total rows.  \n",
    "  - **High cardinality** (>50% of rows unique): Skipping the column is recommended to avoid creating too many new features.  \n",
    "  - **Binary columns** (2 unique values): Label Encoding is recommended.  \n",
    "  - **Few categories** (≤10 unique values): One-Hot Encoding is recommended.  \n",
    "  - Columns with moderate cardinality: Label Encoding is suggested to prevent an explosion of columns.  \n",
    "\n",
    "- The user is prompted to **choose the encoding method** for each column:\n",
    "  - **One-Hot Encoding** (`o`)\n",
    "  - **Label Encoding** (`l`)\n",
    "  - **Skip column** (`s`)\n",
    "\n",
    "This interactive approach allows flexibility in handling categorical variables based on cardinality and the specific dataset characteristics.\n"
   ]
  },
  {
   "cell_type": "code",
   "execution_count": 17,
   "id": "815e5ada-0fee-451f-8e63-4d6c2c32ad51",
   "metadata": {},
   "outputs": [
    {
     "name": "stdout",
     "output_type": "stream",
     "text": [
      "Sample\n"
     ]
    },
    {
     "data": {
      "text/html": [
       "<div>\n",
       "<style scoped>\n",
       "    .dataframe tbody tr th:only-of-type {\n",
       "        vertical-align: middle;\n",
       "    }\n",
       "\n",
       "    .dataframe tbody tr th {\n",
       "        vertical-align: top;\n",
       "    }\n",
       "\n",
       "    .dataframe thead th {\n",
       "        text-align: right;\n",
       "    }\n",
       "</style>\n",
       "<table border=\"1\" class=\"dataframe\">\n",
       "  <thead>\n",
       "    <tr style=\"text-align: right;\">\n",
       "      <th></th>\n",
       "      <th>PassengerId</th>\n",
       "      <th>Survived</th>\n",
       "      <th>Pclass</th>\n",
       "      <th>Sex</th>\n",
       "      <th>Age</th>\n",
       "      <th>SibSp</th>\n",
       "      <th>Parch</th>\n",
       "      <th>Fare</th>\n",
       "      <th>Embarked</th>\n",
       "    </tr>\n",
       "  </thead>\n",
       "  <tbody>\n",
       "    <tr>\n",
       "      <th>0</th>\n",
       "      <td>1</td>\n",
       "      <td>0</td>\n",
       "      <td>3</td>\n",
       "      <td>male</td>\n",
       "      <td>22.0</td>\n",
       "      <td>1</td>\n",
       "      <td>0</td>\n",
       "      <td>7.2500</td>\n",
       "      <td>S</td>\n",
       "    </tr>\n",
       "    <tr>\n",
       "      <th>1</th>\n",
       "      <td>2</td>\n",
       "      <td>1</td>\n",
       "      <td>1</td>\n",
       "      <td>female</td>\n",
       "      <td>38.0</td>\n",
       "      <td>1</td>\n",
       "      <td>0</td>\n",
       "      <td>71.2833</td>\n",
       "      <td>C</td>\n",
       "    </tr>\n",
       "    <tr>\n",
       "      <th>2</th>\n",
       "      <td>3</td>\n",
       "      <td>1</td>\n",
       "      <td>3</td>\n",
       "      <td>female</td>\n",
       "      <td>26.0</td>\n",
       "      <td>0</td>\n",
       "      <td>0</td>\n",
       "      <td>7.9250</td>\n",
       "      <td>S</td>\n",
       "    </tr>\n",
       "    <tr>\n",
       "      <th>3</th>\n",
       "      <td>4</td>\n",
       "      <td>1</td>\n",
       "      <td>1</td>\n",
       "      <td>female</td>\n",
       "      <td>35.0</td>\n",
       "      <td>1</td>\n",
       "      <td>0</td>\n",
       "      <td>53.1000</td>\n",
       "      <td>S</td>\n",
       "    </tr>\n",
       "    <tr>\n",
       "      <th>4</th>\n",
       "      <td>5</td>\n",
       "      <td>0</td>\n",
       "      <td>3</td>\n",
       "      <td>male</td>\n",
       "      <td>35.0</td>\n",
       "      <td>0</td>\n",
       "      <td>0</td>\n",
       "      <td>8.0500</td>\n",
       "      <td>S</td>\n",
       "    </tr>\n",
       "  </tbody>\n",
       "</table>\n",
       "</div>"
      ],
      "text/plain": [
       "   PassengerId  Survived  Pclass     Sex   Age  SibSp  Parch     Fare Embarked\n",
       "0            1         0       3    male  22.0      1      0   7.2500        S\n",
       "1            2         1       1  female  38.0      1      0  71.2833        C\n",
       "2            3         1       3  female  26.0      0      0   7.9250        S\n",
       "3            4         1       1  female  35.0      1      0  53.1000        S\n",
       "4            5         0       3    male  35.0      0      0   8.0500        S"
      ]
     },
     "metadata": {},
     "output_type": "display_data"
    },
    {
     "name": "stdout",
     "output_type": "stream",
     "text": [
      "Categorical columns detected: ['Sex', 'Embarked']\n",
      "\n",
      "Column 'Sex': Binary column (2 unique values). Label Encoding recommended.\n"
     ]
    },
    {
     "name": "stdin",
     "output_type": "stream",
     "text": [
      "Choose encoding for 'Sex' - One-Hot (o), Label (l), Skip (s):  l\n"
     ]
    },
    {
     "name": "stdout",
     "output_type": "stream",
     "text": [
      "Applied Label Encoding to 'Sex'.\n",
      "\n",
      "Column 'Embarked': Few categories (3 unique values). One-Hot Encoding recommended.\n"
     ]
    },
    {
     "name": "stdin",
     "output_type": "stream",
     "text": [
      "Choose encoding for 'Embarked' - One-Hot (o), Label (l), Skip (s):  o\n"
     ]
    },
    {
     "name": "stdout",
     "output_type": "stream",
     "text": [
      "Applied One-Hot Encoding to 'Embarked'.\n"
     ]
    }
   ],
   "source": [
    "label_encoders = {}\n",
    "\n",
    "print('Sample')\n",
    "display(df.head())\n",
    "\n",
    "total_rows = len(df)\n",
    "print(\"Categorical columns detected:\", cat_cols)\n",
    "\n",
    "for col in cat_cols:\n",
    "    n_unique = df[col].nunique()\n",
    "    unique_pct = n_unique / total_rows * 100\n",
    "\n",
    "    if unique_pct > 50:\n",
    "        suggestion_text = f\"High cardinality ({n_unique} unique values, {unique_pct:.1f}% of rows). Skip recommended.\"\n",
    "    elif n_unique == 2:\n",
    "        suggestion_text = f\"Binary column ({n_unique} unique values). Label Encoding recommended.\"\n",
    "    elif n_unique <= 10:\n",
    "        suggestion_text = f\"Few categories ({n_unique} unique values). One-Hot Encoding recommended.\"\n",
    "    else:\n",
    "        suggestion_text = f\"{n_unique} unique values. Label Encoding recommended to avoid too many columns.\"\n",
    "\n",
    "    print(f\"\\nColumn '{col}': {suggestion_text}\")\n",
    "\n",
    "    while True:\n",
    "        choice = input(f\"Choose encoding for '{col}' - One-Hot (o), Label (l), Skip (s): \").strip().lower()\n",
    "        if choice in ['o', 'l', 's']:\n",
    "            break\n",
    "        else:\n",
    "            print(\"Invalid input. Please type 'o', 'l', or 's'.\")\n",
    "\n",
    "    if choice == 'o':\n",
    "        df = pd.get_dummies(df, columns=[col], prefix=col)\n",
    "        print(f\"Applied One-Hot Encoding to '{col}'.\")\n",
    "\n",
    "    elif choice == 'l':\n",
    "        le = LabelEncoder()\n",
    "        df[col] = le.fit_transform(df[col])\n",
    "        label_encoders[col] = le\n",
    "        print(f\"Applied Label Encoding to '{col}'.\")\n",
    "\n",
    "    elif choice == 's':\n",
    "        print(f\"Skipped column '{col}'.\")\n"
   ]
  },
  {
   "cell_type": "markdown",
   "id": "1d68555f-9be3-4219-a69c-e3404af1fedb",
   "metadata": {},
   "source": [
    "## Scaling Numeric Features\n",
    "\n",
    "After cleaning and preprocessing, numeric features may need **scaling** to improve comparability and prepare for machine learning algorithms.\n",
    "\n",
    "For each numeric column:\n",
    "\n",
    "1. The user is prompted to choose a scaling method:\n",
    "   - **Standardization (s)**: Transforms the column to have **mean 0 and standard deviation 1**.\n",
    "   - **Normalization (n)**: Scales the values to a **0–1 range** using Min-Max scaling.\n",
    "   - **Skip (k)**: Leaves the column unchanged.\n",
    "\n",
    "2. The chosen scaler is applied to the column, and the scaler object is stored in case **inverse transformation** is needed later.\n",
    "\n",
    "This step ensures all numeric features are on a comparable scale, which is particularly important for algorithms sensitive to feature magnitudes, such as gradient descent-based models or distance-based models.\n"
   ]
  },
  {
   "cell_type": "code",
   "execution_count": 18,
   "id": "f5787de7-7020-4a46-b4e9-e842955677ef",
   "metadata": {},
   "outputs": [
    {
     "name": "stdout",
     "output_type": "stream",
     "text": [
      "Numeric columns detected: ['PassengerId', 'Survived', 'Pclass', 'Sex', 'Age', 'SibSp', 'Parch', 'Fare']\n"
     ]
    },
    {
     "name": "stdin",
     "output_type": "stream",
     "text": [
      "\n",
      "Column 'PassengerId': Choose scaling - Standardize (s), Normalize (n), Skip (k):  k\n"
     ]
    },
    {
     "name": "stdout",
     "output_type": "stream",
     "text": [
      "Skipped column 'PassengerId'.\n"
     ]
    },
    {
     "name": "stdin",
     "output_type": "stream",
     "text": [
      "\n",
      "Column 'Survived': Choose scaling - Standardize (s), Normalize (n), Skip (k):  k\n"
     ]
    },
    {
     "name": "stdout",
     "output_type": "stream",
     "text": [
      "Skipped column 'Survived'.\n"
     ]
    },
    {
     "name": "stdin",
     "output_type": "stream",
     "text": [
      "\n",
      "Column 'Pclass': Choose scaling - Standardize (s), Normalize (n), Skip (k):  k\n"
     ]
    },
    {
     "name": "stdout",
     "output_type": "stream",
     "text": [
      "Skipped column 'Pclass'.\n"
     ]
    },
    {
     "name": "stdin",
     "output_type": "stream",
     "text": [
      "\n",
      "Column 'Sex': Choose scaling - Standardize (s), Normalize (n), Skip (k):  k\n"
     ]
    },
    {
     "name": "stdout",
     "output_type": "stream",
     "text": [
      "Skipped column 'Sex'.\n"
     ]
    },
    {
     "name": "stdin",
     "output_type": "stream",
     "text": [
      "\n",
      "Column 'Age': Choose scaling - Standardize (s), Normalize (n), Skip (k):  n\n"
     ]
    },
    {
     "name": "stdout",
     "output_type": "stream",
     "text": [
      "Normalized column 'Age'.\n"
     ]
    },
    {
     "name": "stdin",
     "output_type": "stream",
     "text": [
      "\n",
      "Column 'SibSp': Choose scaling - Standardize (s), Normalize (n), Skip (k):  k\n"
     ]
    },
    {
     "name": "stdout",
     "output_type": "stream",
     "text": [
      "Skipped column 'SibSp'.\n"
     ]
    },
    {
     "name": "stdin",
     "output_type": "stream",
     "text": [
      "\n",
      "Column 'Parch': Choose scaling - Standardize (s), Normalize (n), Skip (k):  k\n"
     ]
    },
    {
     "name": "stdout",
     "output_type": "stream",
     "text": [
      "Skipped column 'Parch'.\n"
     ]
    },
    {
     "name": "stdin",
     "output_type": "stream",
     "text": [
      "\n",
      "Column 'Fare': Choose scaling - Standardize (s), Normalize (n), Skip (k):  s\n"
     ]
    },
    {
     "name": "stdout",
     "output_type": "stream",
     "text": [
      "Standardized column 'Fare'.\n"
     ]
    }
   ],
   "source": [
    "num_cols = df.select_dtypes(include=[np.number]).columns.tolist()\n",
    "print(\"Numeric columns detected:\", num_cols)\n",
    "\n",
    "standard_scalers = {}\n",
    "minmax_scalers = {}\n",
    "\n",
    "for col in num_cols:\n",
    "    while True:\n",
    "        choice = input(f\"\\nColumn '{col}': Choose scaling - Standardize (s), Normalize (n), Skip (k): \").strip().lower()\n",
    "        if choice in ['s', 'n', 'k']:\n",
    "            break\n",
    "        else:\n",
    "            print(\"Invalid input. Please type 's', 'n', or 'k'.\")\n",
    "\n",
    "    if choice == 's':\n",
    "        scaler = StandardScaler()\n",
    "        df[col] = scaler.fit_transform(df[[col]])\n",
    "        standard_scalers[col] = scaler  # save scaler if inverse transform needed\n",
    "        print(f\"Standardized column '{col}'.\")\n",
    "\n",
    "    elif choice == 'n':\n",
    "        scaler = MinMaxScaler()\n",
    "        df[col] = scaler.fit_transform(df[[col]])\n",
    "        minmax_scalers[col] = scaler  # save scaler if inverse transform needed\n",
    "        print(f\"Normalized column '{col}'.\")\n",
    "\n",
    "    elif choice == 'k':\n",
    "        print(f\"Skipped column '{col}'.\")\n"
   ]
  },
  {
   "cell_type": "markdown",
   "id": "1c78df45-53da-4d0a-a8e1-9c80e9a3fb75",
   "metadata": {
    "jp-MarkdownHeadingCollapsed": true
   },
   "source": [
    "## Calculating Normalized Cardinality for Numeric Columns\n",
    "\n",
    "In this step, we calculate the **normalized cardinality** for each numeric column.  \n",
    "\n",
    "- Normalized cardinality represents the **percentage of unique values relative to the total number of rows** in the dataset.  \n",
    "- This metric helps identify columns with very high uniqueness, which may influence decisions during outlier handling or feature selection.  \n",
    "\n",
    "The result is stored in a dictionary where the **key** is the column name and the **value** is its normalized cardinality percentage. A quick check is performed by printing the dictionary to see the cardinality of each numeric column."
   ]
  },
  {
   "cell_type": "markdown",
   "id": "ec88e203-803b-4625-b790-9324fe4a2cde",
   "metadata": {},
   "source": [
    "## Visualizing Normalized Cardinality of Numeric Columns\n",
    "\n",
    "To better understand the uniqueness of numeric features, we plot their **normalized cardinality**:\n",
    "\n",
    "- The **x-axis** represents the numeric columns.\n",
    "- The **y-axis** shows the normalized cardinality as a percentage of unique values relative to the total number of rows.\n",
    "- Each point on the line chart represents a column, with its exact percentage labeled above the marker.\n",
    "\n",
    "This visualization helps identify columns with very high or very low uniqueness, which can inform decisions on outlier handling or feature selection.\n"
   ]
  },
  {
   "cell_type": "code",
   "execution_count": 19,
   "id": "e5bcf2e8-1b40-43c6-8197-d354b0de9ac2",
   "metadata": {},
   "outputs": [],
   "source": [
    "cardinality_dict = {col: (df[col].nunique() / total_rows) * 100 for col in num_cols}"
   ]
  },
  {
   "cell_type": "code",
   "execution_count": 20,
   "id": "307ea279-a175-481b-b429-115057be4322",
   "metadata": {},
   "outputs": [
    {
     "data": {
      "image/png": "[encoded data removed]",
      "text/plain": [
       "<Figure size 1000x500 with 1 Axes>"
      ]
     },
     "metadata": {},
     "output_type": "display_data"
    }
   ],
   "source": [
    "cols = list(cardinality_dict.keys())\n",
    "cardinality_pct = list(cardinality_dict.values())\n",
    "\n",
    "plt.figure(figsize=(10, 5))\n",
    "plt.plot(cols, cardinality_pct, marker='o', linestyle='-', color='b')\n",
    "\n",
    "for i, val in enumerate(cardinality_pct):\n",
    "    plt.text(i, val + 0.5, f\"{val:.1f}%\", ha='center', va='bottom')\n",
    "\n",
    "plt.xticks(rotation=45)\n",
    "plt.ylabel('Normalized Cardinality (%)')\n",
    "plt.title('Normalized Cardinality of Numeric Columns')\n",
    "plt.grid(True, linestyle='--', alpha=0.7)\n",
    "plt.show()\n"
   ]
  },
  {
   "cell_type": "markdown",
   "id": "4cd9c70e-13ad-4465-8982-a01de0d0dc7b",
   "metadata": {},
   "source": [
    "## Interactive Column Review and Removal\n",
    "\n",
    "In this step, we perform an **interactive review of all columns** to decide if any should be dropped based on outlier percentage and normalized cardinality:\n",
    "\n",
    "- For **numeric columns**:\n",
    "  - We calculate the **outlier percentage** using the IQR method.\n",
    "  - Columns are prompted for removal if the outlier percentage **exceeds a threshold** or if the normalized cardinality **exceeds a threshold**.\n",
    "  \n",
    "- For **categorical columns**:\n",
    "  - Only columns with normalized cardinality exceeding the threshold are prompted for removal.\n",
    "\n",
    "For each column, the following statistics are displayed:\n",
    "\n",
    "- Outlier percentage (for numeric columns)\n",
    "- Normalized cardinality (% of unique values)\n",
    "\n",
    "The user is then prompted to decide whether to **drop the column** or retain it. Columns that meet all conditions are skipped automatically.\n",
    "\n",
    "This step ensures that features with excessive outliers or overly high cardinality can be removed, improving dataset quality for downstream analysis.\n"
   ]
  },
  {
   "cell_type": "code",
   "execution_count": 21,
   "id": "57416aa6-8a0f-494d-ae67-d7fb75dbd49f",
   "metadata": {},
   "outputs": [
    {
     "name": "stdout",
     "output_type": "stream",
     "text": [
      "\n",
      "Column: 'PassengerId':\n",
      "Outlier percentage is 0.0% (threshold 20%).\n",
      "Normalized cardinality is 100.0% (threshold 50%).\n"
     ]
    },
    {
     "name": "stdin",
     "output_type": "stream",
     "text": [
      "Do you want to drop the column 'PassengerId'? (y/n):  y\n"
     ]
    },
    {
     "name": "stdout",
     "output_type": "stream",
     "text": [
      "Column 'PassengerId' dropped. New shape: (891, 10)\n",
      "\n",
      "Column: 'Survived':\n",
      "Outlier percentage is 0.0% (threshold 20%).\n",
      "Normalized cardinality is 0.2% (threshold 50%).\n",
      "Column 'Survived' is fine. Skipping without prompt.\n",
      "\n",
      "Column: 'Pclass':\n",
      "Outlier percentage is 0.0% (threshold 20%).\n",
      "Normalized cardinality is 0.3% (threshold 50%).\n",
      "Column 'Pclass' is fine. Skipping without prompt.\n",
      "\n",
      "Column: 'Sex':\n",
      "Outlier percentage is 0.0% (threshold 20%).\n",
      "Normalized cardinality is 0.2% (threshold 50%).\n",
      "Column 'Sex' is fine. Skipping without prompt.\n",
      "\n",
      "Column: 'Age':\n",
      "Outlier percentage is 7.4% (threshold 20%).\n",
      "Normalized cardinality is 9.9% (threshold 50%).\n",
      "Column 'Age' is fine. Skipping without prompt.\n",
      "\n",
      "Column: 'SibSp':\n",
      "Outlier percentage is 5.2% (threshold 20%).\n",
      "Normalized cardinality is 0.8% (threshold 50%).\n",
      "Column 'SibSp' is fine. Skipping without prompt.\n",
      "\n",
      "Column: 'Parch':\n",
      "Outlier percentage is 23.9% (threshold 20%).\n",
      "Normalized cardinality is 0.8% (threshold 50%).\n"
     ]
    },
    {
     "name": "stdin",
     "output_type": "stream",
     "text": [
      "Do you want to drop the column 'Parch'? (y/n):  y\n"
     ]
    },
    {
     "name": "stdout",
     "output_type": "stream",
     "text": [
      "Column 'Parch' dropped. New shape: (891, 9)\n",
      "\n",
      "Column: 'Fare':\n",
      "Outlier percentage is 13.0% (threshold 20%).\n",
      "Normalized cardinality is 27.8% (threshold 50%).\n",
      "Column 'Fare' is fine. Skipping without prompt.\n",
      "\n",
      "Column: 'Embarked_C':\n",
      "Outlier percentage is N/A (categorical column).\n",
      "Normalized cardinality is 0.0% (threshold 50%).\n",
      "Column 'Embarked_C' is fine. Skipping without prompt.\n",
      "\n",
      "Column: 'Embarked_Q':\n",
      "Outlier percentage is N/A (categorical column).\n",
      "Normalized cardinality is 0.0% (threshold 50%).\n",
      "Column 'Embarked_Q' is fine. Skipping without prompt.\n",
      "\n",
      "Column: 'Embarked_S':\n",
      "Outlier percentage is N/A (categorical column).\n",
      "Normalized cardinality is 0.0% (threshold 50%).\n",
      "Column 'Embarked_S' is fine. Skipping without prompt.\n"
     ]
    }
   ],
   "source": [
    "def handle_column_interactive_inplace(df, columns, cardinality_dict, threshold_pct=20, cardinality_thresh=50, num_cols=None):\n",
    "    \"\"\"\n",
    "    Interactive column removal (in-place):\n",
    "    - For numeric columns: prompts if outlier percentage exceeds threshold or cardinality exceeds threshold.\n",
    "    - For categorical columns: prompts only if cardinality exceeds threshold.\n",
    "    - Displays stats for all columns, but only prompts when condition fails.\n",
    "    \"\"\"\n",
    "    total_rows = len(df)\n",
    "    \n",
    "    if num_cols is None:\n",
    "        num_cols = df.select_dtypes(include=[np.number]).columns.tolist()\n",
    "    \n",
    "    for col in columns:\n",
    "        normalized_cardinality = cardinality_dict.get(col, 0)\n",
    "        outlier_pct = None\n",
    "        condition_fails = False\n",
    "        \n",
    "        if col in num_cols:\n",
    "            Q1 = df[col].quantile(0.25)\n",
    "            Q3 = df[col].quantile(0.75)\n",
    "            IQR = Q3 - Q1\n",
    "            lower_bound = Q1 - 1.5 * IQR\n",
    "            upper_bound = Q3 + 1.5 * IQR\n",
    "            \n",
    "            outlier_count = ((df[col] < lower_bound) | (df[col] > upper_bound)).sum()\n",
    "            outlier_pct = (outlier_count / total_rows) * 100\n",
    "            \n",
    "            if outlier_pct > threshold_pct or normalized_cardinality > cardinality_thresh:\n",
    "                condition_fails = True\n",
    "        else:\n",
    "            if normalized_cardinality > cardinality_thresh:\n",
    "                condition_fails = True\n",
    "\n",
    "        print(f\"\\nColumn: '{col}':\")\n",
    "        if outlier_pct is not None:\n",
    "            print(f\"Outlier percentage is {outlier_pct:.1f}% (threshold {threshold_pct}%).\")\n",
    "        else:\n",
    "            print(f\"Outlier percentage is N/A (categorical column).\")\n",
    "        print(f\"Normalized cardinality is {normalized_cardinality:.1f}% (threshold {cardinality_thresh}%).\")\n",
    "\n",
    "        if condition_fails:\n",
    "            while True:\n",
    "                choice = input(f\"Do you want to drop the column '{col}'? (y/n): \").strip().lower()\n",
    "                if choice in ['y', 'n']:\n",
    "                    break\n",
    "                else:\n",
    "                    print(\"Please type 'y' or 'n'.\")\n",
    "            \n",
    "            if choice == 'y':\n",
    "                df.drop(columns=[col], inplace=True)\n",
    "                print(f\"Column '{col}' dropped. New shape: {df.shape}\")\n",
    "            else:\n",
    "                print(f\"Column '{col}' retained.\")\n",
    "        else:\n",
    "            print(f\"Column '{col}' is fine. Skipping without prompt.\")\n",
    "\n",
    "\n",
    "handle_column_interactive_inplace(df, df.columns.tolist(), cardinality_dict,\n",
    "                                  threshold_pct=20, cardinality_thresh=50, num_cols=num_cols)\n"
   ]
  },
  {
   "cell_type": "markdown",
   "id": "cfb79b93-e962-4c8c-9750-e445beaf7a7f",
   "metadata": {},
   "source": [
    "## Comparing Numeric Feature Signatures Before and After Preprocessing\n",
    "\n",
    "In this step, we compare the **numeric features of the original dataset** with the **cleaned dataset** to visualize the impact of preprocessing:\n",
    "\n",
    "1. Identify numeric columns in both the **original dataset** (`DATASET`) and the **cleaned dataset** (`df`).\n",
    "2. Determine which numeric columns have **changed** during preprocessing.\n",
    "3. **Normalize** the values of the changed numeric features using Min-Max scaling to bring them to a common range for comparison.\n",
    "4. Plot **density curves** (signatures) of the normalized features:\n",
    "   - Dashed lines represent the original dataset.\n",
    "   - Solid lines represent the cleaned dataset.\n",
    "\n",
    "This visualization allows us to see how cleaning and preprocessing steps—such as outlier removal, missing value imputation, or scaling—have affected the distribution of numeric features.\n"
   ]
  },
  {
   "cell_type": "code",
   "execution_count": 22,
   "id": "ec7dbd25-98f2-463f-8f2f-d073ec826742",
   "metadata": {},
   "outputs": [
    {
     "name": "stdout",
     "output_type": "stream",
     "text": [
      "Columns before preprocessing: ['PassengerId', 'Survived', 'Pclass', 'Age', 'SibSp', 'Parch', 'Fare']\n",
      "Columns after preprocessing: ['Survived', 'Pclass', 'Sex', 'Age', 'SibSp', 'Fare']\n",
      "Numeric columns that changed during preprocessing: ['Fare', 'Age']\n"
     ]
    },
    {
     "data": {
      "image/png": "[encoded data removed]",
      "text/plain": [
       "<Figure size 1200x600 with 1 Axes>"
      ]
     },
     "metadata": {},
     "output_type": "display_data"
    }
   ],
   "source": [
    "numeric_old = DATASET.select_dtypes(include=[float, int]).columns.tolist()\n",
    "numeric_new = df.select_dtypes(include=[float, int]).columns.tolist()\n",
    "\n",
    "common_numeric = list(set(numeric_old) & set(numeric_new))\n",
    "\n",
    "changed_numeric = [col for col in common_numeric \n",
    "                   if not DATASET[col].equals(df[col])]\n",
    "\n",
    "print(\"Columns before preprocessing:\", numeric_old)\n",
    "print(\"Columns after preprocessing:\", numeric_new)\n",
    "print(\"Numeric columns that changed during preprocessing:\", changed_numeric)\n",
    "\n",
    "scaler = MinMaxScaler()\n",
    "\n",
    "DATASET_norm = DATASET[changed_numeric].copy()\n",
    "DATASET_norm[changed_numeric] = scaler.fit_transform(DATASET[changed_numeric])\n",
    "\n",
    "df_norm = df[changed_numeric].copy()\n",
    "df_norm[changed_numeric] = scaler.fit_transform(df[changed_numeric])\n",
    "\n",
    "plt.figure(figsize=(12, 6))\n",
    "\n",
    "for col in changed_numeric:\n",
    "    plt.hist(DATASET_norm[col], bins=30, density=True, alpha=0.5, linestyle='--', edgecolor='black', label=f'{col} - Old')\n",
    "    plt.hist(df_norm[col], bins=30, density=True, alpha=0.5, linestyle='-', edgecolor='black', label=f'{col} - Clean')\n",
    "\n",
    "plt.title(\"Normalized Numeric Feature Signatures (Only Changed Features)\")\n",
    "plt.xlabel(\"Normalized Value\")\n",
    "plt.ylabel(\"Density\")\n",
    "plt.legend()\n",
    "plt.show()"
   ]
  },
  {
   "cell_type": "code",
   "execution_count": null,
   "id": "9636d0ca-a088-495c-b854-c33ba639b384",
   "metadata": {},
   "outputs": [],
   "source": []
  }
 ],
 "metadata": {
  "kernelspec": {
   "display_name": "Python 3 (ipykernel)",
   "language": "python",
   "name": "python3"
  },
  "language_info": {
   "codemirror_mode": {
    "name": "ipython",
    "version": 3
   },
   "file_extension": ".py",
   "mimetype": "text/x-python",
   "name": "python",
   "nbconvert_exporter": "python",
   "pygments_lexer": "ipython3",
   "version": "3.13.5"
  }
 },
 "nbformat": 4,
 "nbformat_minor": 5
}
